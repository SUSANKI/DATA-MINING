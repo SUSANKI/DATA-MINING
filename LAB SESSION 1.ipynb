{
 "cells": [
  {
   "cell_type": "markdown",
   "metadata": {},
   "source": [
    "## LABORATORY SESSION 1"
   ]
  },
  {
   "cell_type": "code",
   "execution_count": 5,
   "metadata": {},
   "outputs": [],
   "source": [
    "import pandas as pd\n",
    "import numpy as np"
   ]
  },
  {
   "cell_type": "markdown",
   "metadata": {},
   "source": [
    "#### PROBLEM 2\n",
    "* Prime program"
   ]
  },
  {
   "cell_type": "code",
   "execution_count": 10,
   "metadata": {},
   "outputs": [],
   "source": [
    "# Create a function to find all the divisors of the inputed number:\n",
    "def divisor(num):\n",
    "    half_num=int(num/2)\n",
    "    divisor=[1,num]\n",
    "    for i in range(2,half_num+1):\n",
    "            if (num%i)==0:\n",
    "                divisor.append(i)\n",
    "    divisor.sort()\n",
    "    return divisor   "
   ]
  },
  {
   "cell_type": "code",
   "execution_count": 11,
   "metadata": {},
   "outputs": [],
   "source": [
    "# Create a function to find number of divisor of an integer\n",
    "# IDEA: Since all prime numbers have only 2 divisor, 1 and itself\n",
    "def len_divisor(num):\n",
    "    half_num=int(num/2)\n",
    "    divisor=[1,num]\n",
    "    for i in range(2,half_num+1):\n",
    "            if (num%i)==0:\n",
    "                divisor.append(i)\n",
    "    return len(divisor)"
   ]
  },
  {
   "cell_type": "code",
   "execution_count": 27,
   "metadata": {},
   "outputs": [
    {
     "name": "stdout",
     "output_type": "stream",
     "text": [
      "input sequence of positive integer number with space:12 5 -5 19\n",
      "\n",
      "\n",
      "this is not prime number 12\n",
      "this is prime number 5\n",
      "error\n",
      "this is prime number 19\n"
     ]
    }
   ],
   "source": [
    "number= input(\"input sequence of positive integer number with space:\")\n",
    "print(\"\\n\")\n",
    "number=number.split()\n",
    "\n",
    "for i in range(len(number)):\n",
    "    if float(number[i])!=int(float(number[i])) or float(number[i])<=0:\n",
    "        print(\"error\")\n",
    "    elif len_divisor(int(float(number[i])))==2:\n",
    "        print(\"this is prime number\",int(float(number[i])))\n",
    "    else:\n",
    "        print(\"this is not prime number\",int(float(number[i])))"
   ]
  },
  {
   "cell_type": "markdown",
   "metadata": {},
   "source": [
    "#### PROBLEM 3\n",
    "* Symetric program"
   ]
  },
  {
   "cell_type": "code",
   "execution_count": 25,
   "metadata": {},
   "outputs": [],
   "source": [
    "def symetric_num(num):\n",
    "    if str(num)== str(num)[::-1]:\n",
    "        return 1\n",
    "    else:\n",
    "        return 0           "
   ]
  },
  {
   "cell_type": "code",
   "execution_count": 28,
   "metadata": {},
   "outputs": [
    {
     "name": "stdout",
     "output_type": "stream",
     "text": [
      "input sequence of integer >9 with space:111 121 145 9 14\n",
      "\n",
      "\n",
      "This is symetric number 111\n",
      "This is symetric number 121\n",
      "this is not symetric number 145\n",
      "error\n",
      "this is not symetric number 14\n"
     ]
    }
   ],
   "source": [
    "number= input(\"input sequence of integer >9 with space:\")\n",
    "print(\"\\n\")\n",
    "number=number.split()\n",
    "\n",
    "for i in range(len(number)):\n",
    "    if float(number[i])!=int(float(number[i])) or float(number[i])<=9:\n",
    "        print(\"error\")\n",
    "    elif symetric_num(int(float(number[i])))==1:\n",
    "        print(\"This is symetric number\",int(float(number[i])))\n",
    "    else:\n",
    "        print(\"this is not symetric number\",int(float(number[i])))"
   ]
  },
  {
   "cell_type": "code",
   "execution_count": null,
   "metadata": {},
   "outputs": [],
   "source": []
  }
 ],
 "metadata": {
  "kernelspec": {
   "display_name": "Python 3",
   "language": "python",
   "name": "python3"
  },
  "language_info": {
   "codemirror_mode": {
    "name": "ipython",
    "version": 3
   },
   "file_extension": ".py",
   "mimetype": "text/x-python",
   "name": "python",
   "nbconvert_exporter": "python",
   "pygments_lexer": "ipython3",
   "version": "3.8.5"
  }
 },
 "nbformat": 4,
 "nbformat_minor": 4
}
